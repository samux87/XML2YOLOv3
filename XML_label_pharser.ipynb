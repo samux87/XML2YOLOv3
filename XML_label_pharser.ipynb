{
 "cells": [
  {
   "cell_type": "markdown",
   "metadata": {},
   "source": [
    "# XML to YOLOv3 label Pharser\n",
    "## Created by Samuele Buosi on 13/8/19\n"
   ]
  },
  {
   "cell_type": "code",
   "execution_count": 1,
   "metadata": {},
   "outputs": [],
   "source": [
    "# Load the xml file\n",
    "import xml.etree.ElementTree as ET\n",
    "root = ET.parse('gopro_008.xml').getroot()"
   ]
  },
  {
   "cell_type": "code",
   "execution_count": 7,
   "metadata": {},
   "outputs": [
    {
     "name": "stdout",
     "output_type": "stream",
     "text": [
      "{'framespan': '0:0', 'height': '5', 'width': '6', 'x': '1401', 'y': '256'}\n",
      "1401\n"
     ]
    }
   ],
   "source": [
    "# get BBox info (example)\n",
    "print(root[1][0][1][0][0].attrib)\n",
    "print(root[1][0][1][0][0].get('x'))"
   ]
  },
  {
   "cell_type": "code",
   "execution_count": 36,
   "metadata": {},
   "outputs": [],
   "source": [
    "# BONUS: Count video frames\n",
    "import cv2\n",
    "video = cv2.VideoCapture('gopro_008.mp4')\n",
    "total = 0\n",
    "\n",
    "def count_frames_manual(video):\n",
    "    # initialize the total number of frames read\n",
    "    total = 0\n",
    " \n",
    "    # loop over the frames of the video\n",
    "    while True:\n",
    "        # grab the current frame\n",
    "        (grabbed, frame) = video.read()\n",
    "        \n",
    "        # check to see if we have reached the end of the\n",
    "        # video\n",
    "        if not grabbed:\n",
    "            break\n",
    " \n",
    "        # increment the total number of frames read\n",
    "        total += 1\n",
    " \n",
    "    # return the total number of frames in the video file\n",
    "    return total\n",
    "\n",
    "count_frames_manual(video)"
   ]
  },
  {
   "cell_type": "code",
   "execution_count": 8,
   "metadata": {},
   "outputs": [
    {
     "name": "stdout",
     "output_type": "stream",
     "text": [
      "done\n"
     ]
    }
   ],
   "source": [
    "# creo i txt con le label (1 riga sola per ora) YOLO v3 format\n",
    "import os\n",
    "h_img = 1080\n",
    "w_img = 1920\n",
    "i = 0\n",
    "for filename in os.listdir(\"output\"):\n",
    "    if filename.endswith(\".jpg\"):\n",
    "        filePath = \"output/\" + filename[:-3] + \"txt\"\n",
    "        # creo il file del frame\n",
    "        f = open(filePath,\"w+\")\n",
    "        # le label sono dall angolo in alto a sx\n",
    "        # class x_center y_center W H\n",
    "        h = int(root[1][0][1][0][i].get('height'))\n",
    "        w = int(root[1][0][1][0][i].get('width'))\n",
    "        x = round(((int(root[1][0][1][0][i].get('x'))+(w/2))/1920),6)\n",
    "        y = round(((int(root[1][0][1][0][i].get('y'))+(h/2))/1080),6)\n",
    "\n",
    "        riga = \"0 \" + str(x) + \" \" + str(y) + \" \" +str(round(w/w_img,6)) + \" \" + str(round(h/h_img,6))\n",
    "        #print(riga)\n",
    "        f.write(riga)  # scrivo la label nel file\n",
    "        f.close()  # chiudiamo il file\n",
    "        i += 1\n",
    "        continue\n",
    "    else:\n",
    "        continue\n",
    "print(\"done\")"
   ]
  },
  {
   "cell_type": "code",
   "execution_count": null,
   "metadata": {},
   "outputs": [],
   "source": []
  }
 ],
 "metadata": {
  "kernelspec": {
   "display_name": "Python [conda env:darknet_env]",
   "language": "python",
   "name": "conda-env-darknet_env-py"
  },
  "language_info": {
   "codemirror_mode": {
    "name": "ipython",
    "version": 3
   },
   "file_extension": ".py",
   "mimetype": "text/x-python",
   "name": "python",
   "nbconvert_exporter": "python",
   "pygments_lexer": "ipython3",
   "version": "3.6.8"
  }
 },
 "nbformat": 4,
 "nbformat_minor": 2
}
